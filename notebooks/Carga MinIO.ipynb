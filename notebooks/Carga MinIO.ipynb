{
 "cells": [
  {
   "cell_type": "markdown",
   "id": "d89c814a-adab-4539-a082-c933ffc9b3c8",
   "metadata": {},
   "source": [
    "# Carga MinIO"
   ]
  },
  {
   "cell_type": "code",
   "execution_count": 5,
   "id": "1c0517b9-daa8-4c55-8589-960f90d9c8d6",
   "metadata": {},
   "outputs": [],
   "source": [
    "import os\n",
    "import json\n",
    "import tempfile\n",
    "import boto3\n",
    "from botocore.client import Config\n",
    "\n",
    "# Configurações do MinIO\n",
    "MINIO_ENDPOINT = os.getenv(\"MINIO_ENDPOINTs\", \"http://localhost:9000\")  # ou o IP/host do seu servidor MinIO\n",
    "\n",
    "# Deve gerar uma nova Cresencial no 1o acesso ao minio\n",
    "MINIO_ACCESS_KEY = os.getenv(\"MINIO_ACCESS_KEYs\", \"h31kVG1KwaTvywDIajQd\")\n",
    "MINIO_SECRET_KEY = os.getenv(\"MINIO_SECRET_KEYs\", \"DT6Oy2nbumi6LEtIA4tRWB3AV5n4P0YWVO2D3ctD\")\n",
    "bucket_name = \"orders\"\n",
    "\n",
    "\n",
    "# Conexão com o MinIO\n",
    "s3 = boto3.client(\n",
    "    's3',\n",
    "    endpoint_url=MINIO_ENDPOINT,\n",
    "    aws_access_key_id=MINIO_ACCESS_KEY,\n",
    "    aws_secret_access_key=MINIO_SECRET_KEY,\n",
    "    config=Config(signature_version='s3v4'),\n",
    "    region_name='us-east-1'  # Pode ser qualquer coisa no caso do MinIO\n",
    ")"
   ]
  },
  {
   "cell_type": "code",
   "execution_count": 24,
   "id": "1e1e0d8a-ba3a-45fc-8871-b6bdd2b8cd72",
   "metadata": {},
   "outputs": [
    {
     "name": "stdout",
     "output_type": "stream",
     "text": [
      "Foram enviados 1000 arquivo(s)\n",
      "CPU times: user 1.75 s, sys: 491 ms, total: 2.24 s\n",
      "Wall time: 5.93 s\n"
     ]
    }
   ],
   "source": [
    "%%time\n",
    "origem_json = \"data/datasets/orders/0-1000.json\"\n",
    "\n",
    "with open(origem_json, \"r\") as f:\n",
    "    orders = json.loads(f.read())\n",
    "\n",
    "\n",
    "count_insert = 0\n",
    "for order in orders:\n",
    "    # Criação do arquivo JSON temporário\n",
    "    with tempfile.NamedTemporaryFile(mode='w+', suffix='.json', delete=True) as temp_json:\n",
    "        json.dump(order, temp_json, indent=4)\n",
    "        \n",
    "        order_id = order[\"id\"]\n",
    "        file_key = f\"{order_id}.json\"\n",
    "        temp_json_path = temp_json.name\n",
    "\n",
    "        try:\n",
    "            # Upload do arquivo\n",
    "            s3.upload_file(temp_json_path, bucket_name, file_key)\n",
    "        except Exception as e:\n",
    "            print(f\"Erro ao enviar o arquivo: {e}\")\n",
    "\n",
    "    count_insert += 1\n",
    "\n",
    "print(f\"Foram enviados {count_update} arquivo(s)\")"
   ]
  },
  {
   "cell_type": "code",
   "execution_count": null,
   "id": "a21af130-9ed0-449f-8603-08b28cb3300b",
   "metadata": {},
   "outputs": [],
   "source": []
  }
 ],
 "metadata": {
  "kernelspec": {
   "display_name": "z111",
   "language": "python",
   "name": "z111"
  },
  "language_info": {
   "codemirror_mode": {
    "name": "ipython",
    "version": 3
   },
   "file_extension": ".py",
   "mimetype": "text/x-python",
   "name": "python",
   "nbconvert_exporter": "python",
   "pygments_lexer": "ipython3",
   "version": "3.11.8"
  }
 },
 "nbformat": 4,
 "nbformat_minor": 5
}
